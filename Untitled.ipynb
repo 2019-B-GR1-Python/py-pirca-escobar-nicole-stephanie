{
 "cells": [
  {
   "cell_type": "code",
   "execution_count": 2,
   "metadata": {},
   "outputs": [
    {
     "data": {
      "text/plain": [
       "array([0., 0., 0., 0., 0., 0., 0., 0., 0., 0.])"
      ]
     },
     "execution_count": 2,
     "metadata": {},
     "output_type": "execute_result"
    }
   ],
   "source": [
    "#2) Crear un vector de ceros de tamaño 10\n",
    "import numpy as np\n",
    "np.zeros((10))"
   ]
  },
  {
   "cell_type": "code",
   "execution_count": 89,
   "metadata": {},
   "outputs": [
    {
     "name": "stdout",
     "output_type": "stream",
     "text": [
      "[0. 0. 0. 0. 0. 1. 0. 0. 0. 0.]\n"
     ]
    }
   ],
   "source": [
    "#3) Crear un vector de ceros de tamaño 10 y el de la posicion 5 sea igual a 1\n",
    "vector = np.zeros(10)\n",
    "vector[5] = 1\n",
    "\n",
    "print(vector)"
   ]
  },
  {
   "cell_type": "code",
   "execution_count": 5,
   "metadata": {},
   "outputs": [
    {
     "data": {
      "text/plain": [
       "array([49, 48, 47, 46, 45, 44, 43, 42, 41, 40, 39, 38, 37, 36, 35, 34, 33,\n",
       "       32, 31, 30, 29, 28, 27, 26, 25, 24, 23, 22, 21, 20, 19, 18, 17, 16,\n",
       "       15, 14, 13, 12, 11, 10,  9,  8,  7,  6,  5,  4,  3,  2,  1,  0])"
      ]
     },
     "execution_count": 5,
     "metadata": {},
     "output_type": "execute_result"
    }
   ],
   "source": [
    "#4) Cambiar el orden de un vector de 50 elementos, el de la posicion 1 es el de la 50 etc\n",
    "arreglo_cero_al_cincuenta= np.arange(50)\n",
    "arreglo_cero_al_cincuenta\n",
    "arreglo_cero_al_cincuenta[::-1]"
   ]
  },
  {
   "cell_type": "code",
   "execution_count": 63,
   "metadata": {},
   "outputs": [
    {
     "data": {
      "text/plain": [
       "array([[0., 0., 0.],\n",
       "       [0., 0., 0.],\n",
       "       [0., 0., 0.]])"
      ]
     },
     "execution_count": 63,
     "metadata": {},
     "output_type": "execute_result"
    }
   ],
   "source": [
    "#5) Crear una matriz de 3 x 3 con valores del cero al 8\n",
    "a = np.triu(np.ones((3, 3)), 8)   # see help(np.triu)\n",
    "a"
   ]
  },
  {
   "cell_type": "code",
   "execution_count": 85,
   "metadata": {},
   "outputs": [
    {
     "data": {
      "text/plain": [
       "(array([0, 1, 4], dtype=int64),)"
      ]
     },
     "execution_count": 85,
     "metadata": {},
     "output_type": "execute_result"
    }
   ],
   "source": [
    "#6) Encontrar los indices que no sean cero en un arreglo\n",
    "import numpy as np\n",
    "arreglo = [1,2,0,0,4,0]\n",
    "np_array = np.array((arreglo))\n",
    "np.where(np_array)"
   ]
  },
  {
   "cell_type": "code",
   "execution_count": 66,
   "metadata": {},
   "outputs": [
    {
     "data": {
      "text/plain": [
       "array([[1., 0., 0.],\n",
       "       [0., 1., 0.],\n",
       "       [0., 0., 1.]])"
      ]
     },
     "execution_count": 66,
     "metadata": {},
     "output_type": "execute_result"
    }
   ],
   "source": [
    "#7) Crear una matriz de identidad 3 x 3\n",
    "np.eye(3)"
   ]
  },
  {
   "cell_type": "code",
   "execution_count": 65,
   "metadata": {},
   "outputs": [
    {
     "data": {
      "text/plain": [
       "array([[[0.09157604, 0.5545099 , 0.62776274],\n",
       "        [0.75934003, 0.94320299, 0.09664865],\n",
       "        [0.55848079, 0.75219972, 0.72237106]],\n",
       "\n",
       "       [[0.57642207, 0.27645988, 0.45275417],\n",
       "        [0.50600082, 0.14267763, 0.79920943],\n",
       "        [0.68832023, 0.80038035, 0.30633689]],\n",
       "\n",
       "       [[0.68925534, 0.44385988, 0.57822053],\n",
       "        [0.66869295, 0.17469091, 0.10258339],\n",
       "        [0.48736934, 0.15779948, 0.93604634]]])"
      ]
     },
     "execution_count": 65,
     "metadata": {},
     "output_type": "execute_result"
    }
   ],
   "source": [
    "#8) Crear una matriz 3 x 3 x 3 con valores randomicos\n",
    "M = np.random.rand(3,3,3)\n",
    "M"
   ]
  },
  {
   "cell_type": "code",
   "execution_count": 68,
   "metadata": {},
   "outputs": [
    {
     "data": {
      "text/plain": [
       "array([[0.14914083, 0.7013579 , 0.80741232, 0.32392405, 0.58759425,\n",
       "        0.86183805, 0.57206328, 0.80556826, 0.53760616, 0.71120934],\n",
       "       [0.61402342, 0.0304356 , 0.90128283, 0.76846781, 0.42620153,\n",
       "        0.53055003, 0.41169478, 0.11722751, 0.35903589, 0.293745  ],\n",
       "       [0.22215722, 0.77950744, 0.08571092, 0.13713279, 0.82874028,\n",
       "        0.70107584, 0.40235613, 0.15576007, 0.18063871, 0.10083881],\n",
       "       [0.43920926, 0.71842809, 0.67587607, 0.49298514, 0.93855495,\n",
       "        0.87849801, 0.83109124, 0.12019013, 0.08598221, 0.44621842],\n",
       "       [0.88477149, 0.11094852, 0.62790347, 0.7863535 , 0.41942098,\n",
       "        0.43793483, 0.77809371, 0.97902424, 0.96499512, 0.05605894],\n",
       "       [0.10650989, 0.15639518, 0.46902663, 0.43961723, 0.99173241,\n",
       "        0.50154952, 0.81645644, 0.71482646, 0.87945799, 0.91690037],\n",
       "       [0.91347753, 0.86218854, 0.26439142, 0.75268715, 0.5904977 ,\n",
       "        0.31588574, 0.22394141, 0.14246714, 0.33355589, 0.79921637],\n",
       "       [0.92021782, 0.56372551, 0.54390787, 0.08057401, 0.95673724,\n",
       "        0.8391914 , 0.50803749, 0.14430282, 0.29658951, 0.28052019],\n",
       "       [0.78231307, 0.78082027, 0.09658092, 0.51346542, 0.56573227,\n",
       "        0.92508568, 0.50883583, 0.29919097, 0.29626616, 0.24837098],\n",
       "       [0.14364391, 0.57052769, 0.2451137 , 0.12221181, 0.12805989,\n",
       "        0.71380158, 0.3644733 , 0.89764149, 0.82285161, 0.39899061]])"
      ]
     },
     "execution_count": 68,
     "metadata": {},
     "output_type": "execute_result"
    }
   ],
   "source": [
    "#9) Crear una matriz 10 x 10 y encontrar el mayor y el menor\n",
    "M = np.random.rand(10,10)\n",
    "M"
   ]
  },
  {
   "cell_type": "code",
   "execution_count": 69,
   "metadata": {},
   "outputs": [
    {
     "data": {
      "text/plain": [
       "0.030435599522187884"
      ]
     },
     "execution_count": 69,
     "metadata": {},
     "output_type": "execute_result"
    }
   ],
   "source": [
    "M.min()"
   ]
  },
  {
   "cell_type": "code",
   "execution_count": 28,
   "metadata": {},
   "outputs": [
    {
     "data": {
      "text/plain": [
       "11"
      ]
     },
     "execution_count": 28,
     "metadata": {},
     "output_type": "execute_result"
    }
   ],
   "source": [
    "M.max()"
   ]
  },
  {
   "cell_type": "code",
   "execution_count": 30,
   "metadata": {},
   "outputs": [],
   "source": [
    "#10) Sacar los colores RGB unicos en una imagen (cuales rgb existen ej: 0, 0, 0 - 255,255,255 -> 2 colores)\n",
    "import pandas as pd"
   ]
  },
  {
   "cell_type": "code",
   "execution_count": 32,
   "metadata": {},
   "outputs": [
    {
     "data": {
      "text/plain": [
       "0                    True\n",
       "1                   False\n",
       "2                      12\n",
       "3                   12.12\n",
       "4                       1\n",
       "5                    None\n",
       "6                      ()\n",
       "7                      []\n",
       "8    {'nombre': 'Nicole'}\n",
       "dtype: object"
      ]
     },
     "execution_count": 32,
     "metadata": {},
     "output_type": "execute_result"
    }
   ],
   "source": [
    "# 11) ¿Como crear una serie de una lista, diccionario o arreglo?\n",
    "\n",
    "lista_numeros = [1,2,3,4]\n",
    "tupla_numeros = (1,2,3,4)\n",
    "np_numeros = np.array((1,2,3,4))\n",
    "\n",
    "serie_a = pd.Series(\n",
    "        lista_numeros)\n",
    "serie_b = pd.Series(\n",
    "        tupla_numeros)\n",
    "serie_c = pd.Series(\n",
    "        np_numeros)\n",
    "serie_d = pd.Series([\n",
    "        True,\n",
    "        False,\n",
    "        12,\n",
    "        12.12,\n",
    "        \"1\",\n",
    "        None,\n",
    "        (),\n",
    "        [],\n",
    "        {\"nombre\":\"Nicole\"}])\n",
    "serie_a\n",
    "serie_b\n",
    "serie_d"
   ]
  },
  {
   "cell_type": "code",
   "execution_count": 54,
   "metadata": {},
   "outputs": [
    {
     "ename": "ValueError",
     "evalue": "Length mismatch: Expected axis has 4 elements, new values have 5 elements",
     "output_type": "error",
     "traceback": [
      "\u001b[1;31m---------------------------------------------------------------------------\u001b[0m",
      "\u001b[1;31mValueError\u001b[0m                                Traceback (most recent call last)",
      "\u001b[1;32m<ipython-input-54-035621e680fc>\u001b[0m in \u001b[0;36m<module>\u001b[1;34m\u001b[0m\n\u001b[0;32m     24\u001b[0m \u001b[0mdf1\u001b[0m\u001b[1;33m.\u001b[0m\u001b[0mindex\u001b[0m \u001b[1;33m=\u001b[0m \u001b[1;33m[\u001b[0m\u001b[1;34m'Nicole'\u001b[0m\u001b[1;33m,\u001b[0m \u001b[1;34m'Pirca'\u001b[0m\u001b[1;33m]\u001b[0m\u001b[1;33m\u001b[0m\u001b[1;33m\u001b[0m\u001b[0m\n\u001b[0;32m     25\u001b[0m \u001b[0mdf1\u001b[0m\u001b[1;33m.\u001b[0m\u001b[0mindex\u001b[0m \u001b[1;33m=\u001b[0m \u001b[1;33m[\u001b[0m\u001b[1;34m'Nico'\u001b[0m\u001b[1;33m,\u001b[0m \u001b[1;34m'Pirca'\u001b[0m\u001b[1;33m]\u001b[0m\u001b[1;33m\u001b[0m\u001b[1;33m\u001b[0m\u001b[0m\n\u001b[1;32m---> 26\u001b[1;33m \u001b[0mdf1\u001b[0m\u001b[1;33m.\u001b[0m\u001b[0mcolumns\u001b[0m \u001b[1;33m=\u001b[0m \u001b[1;33m[\u001b[0m\u001b[1;34m'A'\u001b[0m\u001b[1;33m,\u001b[0m\u001b[1;34m'B'\u001b[0m\u001b[1;33m,\u001b[0m\u001b[1;34m'C'\u001b[0m\u001b[1;33m,\u001b[0m\u001b[1;34m'D'\u001b[0m\u001b[1;33m,\u001b[0m\u001b[1;34m'F'\u001b[0m\u001b[1;33m]\u001b[0m\u001b[1;33m\u001b[0m\u001b[1;33m\u001b[0m\u001b[0m\n\u001b[0m\u001b[0;32m     27\u001b[0m \u001b[1;33m\u001b[0m\u001b[0m\n",
      "\u001b[1;32m~\\Anaconda3\\lib\\site-packages\\pandas\\core\\generic.py\u001b[0m in \u001b[0;36m__setattr__\u001b[1;34m(self, name, value)\u001b[0m\n\u001b[0;32m   5190\u001b[0m         \u001b[1;32mtry\u001b[0m\u001b[1;33m:\u001b[0m\u001b[1;33m\u001b[0m\u001b[1;33m\u001b[0m\u001b[0m\n\u001b[0;32m   5191\u001b[0m             \u001b[0mobject\u001b[0m\u001b[1;33m.\u001b[0m\u001b[0m__getattribute__\u001b[0m\u001b[1;33m(\u001b[0m\u001b[0mself\u001b[0m\u001b[1;33m,\u001b[0m \u001b[0mname\u001b[0m\u001b[1;33m)\u001b[0m\u001b[1;33m\u001b[0m\u001b[1;33m\u001b[0m\u001b[0m\n\u001b[1;32m-> 5192\u001b[1;33m             \u001b[1;32mreturn\u001b[0m \u001b[0mobject\u001b[0m\u001b[1;33m.\u001b[0m\u001b[0m__setattr__\u001b[0m\u001b[1;33m(\u001b[0m\u001b[0mself\u001b[0m\u001b[1;33m,\u001b[0m \u001b[0mname\u001b[0m\u001b[1;33m,\u001b[0m \u001b[0mvalue\u001b[0m\u001b[1;33m)\u001b[0m\u001b[1;33m\u001b[0m\u001b[1;33m\u001b[0m\u001b[0m\n\u001b[0m\u001b[0;32m   5193\u001b[0m         \u001b[1;32mexcept\u001b[0m \u001b[0mAttributeError\u001b[0m\u001b[1;33m:\u001b[0m\u001b[1;33m\u001b[0m\u001b[1;33m\u001b[0m\u001b[0m\n\u001b[0;32m   5194\u001b[0m             \u001b[1;32mpass\u001b[0m\u001b[1;33m\u001b[0m\u001b[1;33m\u001b[0m\u001b[0m\n",
      "\u001b[1;32mpandas\\_libs\\properties.pyx\u001b[0m in \u001b[0;36mpandas._libs.properties.AxisProperty.__set__\u001b[1;34m()\u001b[0m\n",
      "\u001b[1;32m~\\Anaconda3\\lib\\site-packages\\pandas\\core\\generic.py\u001b[0m in \u001b[0;36m_set_axis\u001b[1;34m(self, axis, labels)\u001b[0m\n\u001b[0;32m    688\u001b[0m \u001b[1;33m\u001b[0m\u001b[0m\n\u001b[0;32m    689\u001b[0m     \u001b[1;32mdef\u001b[0m \u001b[0m_set_axis\u001b[0m\u001b[1;33m(\u001b[0m\u001b[0mself\u001b[0m\u001b[1;33m,\u001b[0m \u001b[0maxis\u001b[0m\u001b[1;33m,\u001b[0m \u001b[0mlabels\u001b[0m\u001b[1;33m)\u001b[0m\u001b[1;33m:\u001b[0m\u001b[1;33m\u001b[0m\u001b[1;33m\u001b[0m\u001b[0m\n\u001b[1;32m--> 690\u001b[1;33m         \u001b[0mself\u001b[0m\u001b[1;33m.\u001b[0m\u001b[0m_data\u001b[0m\u001b[1;33m.\u001b[0m\u001b[0mset_axis\u001b[0m\u001b[1;33m(\u001b[0m\u001b[0maxis\u001b[0m\u001b[1;33m,\u001b[0m \u001b[0mlabels\u001b[0m\u001b[1;33m)\u001b[0m\u001b[1;33m\u001b[0m\u001b[1;33m\u001b[0m\u001b[0m\n\u001b[0m\u001b[0;32m    691\u001b[0m         \u001b[0mself\u001b[0m\u001b[1;33m.\u001b[0m\u001b[0m_clear_item_cache\u001b[0m\u001b[1;33m(\u001b[0m\u001b[1;33m)\u001b[0m\u001b[1;33m\u001b[0m\u001b[1;33m\u001b[0m\u001b[0m\n\u001b[0;32m    692\u001b[0m \u001b[1;33m\u001b[0m\u001b[0m\n",
      "\u001b[1;32m~\\Anaconda3\\lib\\site-packages\\pandas\\core\\internals\\managers.py\u001b[0m in \u001b[0;36mset_axis\u001b[1;34m(self, axis, new_labels)\u001b[0m\n\u001b[0;32m    181\u001b[0m             raise ValueError(\n\u001b[0;32m    182\u001b[0m                 \u001b[1;34m\"Length mismatch: Expected axis has {old} elements, new \"\u001b[0m\u001b[1;33m\u001b[0m\u001b[1;33m\u001b[0m\u001b[0m\n\u001b[1;32m--> 183\u001b[1;33m                 \u001b[1;34m\"values have {new} elements\"\u001b[0m\u001b[1;33m.\u001b[0m\u001b[0mformat\u001b[0m\u001b[1;33m(\u001b[0m\u001b[0mold\u001b[0m\u001b[1;33m=\u001b[0m\u001b[0mold_len\u001b[0m\u001b[1;33m,\u001b[0m \u001b[0mnew\u001b[0m\u001b[1;33m=\u001b[0m\u001b[0mnew_len\u001b[0m\u001b[1;33m)\u001b[0m\u001b[1;33m\u001b[0m\u001b[1;33m\u001b[0m\u001b[0m\n\u001b[0m\u001b[0;32m    184\u001b[0m             )\n\u001b[0;32m    185\u001b[0m \u001b[1;33m\u001b[0m\u001b[0m\n",
      "\u001b[1;31mValueError\u001b[0m: Length mismatch: Expected axis has 4 elements, new values have 5 elements"
     ]
    }
   ],
   "source": [
    "#12) ¿Como convertir el indice de una serie en una columna de un DataFrame?\n",
    "mylist = list('abcedfghijklmnopqrstuvwxyz')\n",
    "myarr = np.arange(26)\n",
    "mydict = dict(zip(mylist, myarr))\n",
    "ser = pd.Series(mydict) \n",
    "# Transformar la serie en dataframe y hacer una columna indice\n",
    "\n",
    "arr_pand = np.random.randint(0,10,6).reshape(2,3)\n",
    "\n",
    "df1 = pd.DataFrame(arr_pand)\n",
    "ser = df1[0]\n",
    "\n",
    "\n",
    "df1[3] = ser\n",
    "\n",
    "\n",
    "datos_fisicos_uno = pd.DataFrame(\n",
    "        arr_pand,\n",
    "        columns=[\n",
    "                'Estatura (cm)',\n",
    "                'Peso (kg)',\n",
    "                'edad(anios)'])\n",
    "\n",
    "df1.index = ['Nicole', 'Pirca']\n",
    "df1.index = ['Nico', 'Pirca']\n",
    "df1.columns = ['A','B','C','D','F']\n",
    "\n"
   ]
  },
  {
   "cell_type": "code",
   "execution_count": 46,
   "metadata": {},
   "outputs": [
    {
     "data": {
      "text/html": [
       "<div>\n",
       "<style scoped>\n",
       "    .dataframe tbody tr th:only-of-type {\n",
       "        vertical-align: middle;\n",
       "    }\n",
       "\n",
       "    .dataframe tbody tr th {\n",
       "        vertical-align: top;\n",
       "    }\n",
       "\n",
       "    .dataframe thead th {\n",
       "        text-align: right;\n",
       "    }\n",
       "</style>\n",
       "<table border=\"1\" class=\"dataframe\">\n",
       "  <thead>\n",
       "    <tr style=\"text-align: right;\">\n",
       "      <th></th>\n",
       "      <th>A</th>\n",
       "      <th>B</th>\n",
       "      <th>C</th>\n",
       "      <th>D</th>\n",
       "      <th>F</th>\n",
       "    </tr>\n",
       "  </thead>\n",
       "  <tbody>\n",
       "    <tr>\n",
       "      <td>Nico</td>\n",
       "      <td>0</td>\n",
       "      <td>2</td>\n",
       "      <td>1</td>\n",
       "      <td>0</td>\n",
       "      <td>0</td>\n",
       "    </tr>\n",
       "    <tr>\n",
       "      <td>Pirca</td>\n",
       "      <td>3</td>\n",
       "      <td>5</td>\n",
       "      <td>5</td>\n",
       "      <td>3</td>\n",
       "      <td>15</td>\n",
       "    </tr>\n",
       "  </tbody>\n",
       "</table>\n",
       "</div>"
      ],
      "text/plain": [
       "       A  B  C  D   F\n",
       "Nico   0  2  1  0   0\n",
       "Pirca  3  5  5  3  15"
      ]
     },
     "execution_count": 46,
     "metadata": {},
     "output_type": "execute_result"
    }
   ],
   "source": [
    "# 13) ¿Como combinar varias series para hacer un DataFrame?\n",
    "\n",
    "import numpy as np\n",
    "ser1 = pd.Series(list('abcedfghijklmnopqrstuvwxyz'))\n",
    "ser2 = pd.Series(np.arange(26))\n",
    "\n",
    "arr_pand = np.random.randint(0,10,6).reshape(2,3)\n",
    "\n",
    "df1 = pd.DataFrame(arr_pand)\n",
    "ser1 = df1[0]\n",
    "ser2 = df1[1]\n",
    "ser1[0]\n",
    "\n",
    "df1[3] = ser1\n",
    "\n",
    "df1[4] = ser1 * ser2\n",
    "\n",
    "datos_fisicos_uno = pd.DataFrame(\n",
    "        arr_pand,\n",
    "        columns=[\n",
    "                'Estatura (cm)',\n",
    "                'Peso (kg)',\n",
    "                'edad(anios)'])\n",
    "\n",
    "datos_fisicos_dos = pd.DataFrame(\n",
    "        arr_pand,\n",
    "        columns=[\n",
    "                'Estatura (cm)',\n",
    "                'Peso (kg)',\n",
    "                'edad(anios)'],\n",
    "        index=['Adrian','Vicente'])\n",
    "\n",
    "df1.index = ['Nicole', 'Pirca']\n",
    "df1.index = ['Nico', 'Pirca']\n",
    "df1.columns = ['A','B','C','D','F']\n",
    "df1"
   ]
  },
  {
   "cell_type": "code",
   "execution_count": null,
   "metadata": {},
   "outputs": [],
   "source": [
    "#14) ¿Como obtener los items que esten en una serie A y no en una serie B?\n",
    "ser1 = pd.Series([1, 2, 3, 4, 5])\n",
    "ser2 = pd.Series([4, 5, 6, 7, 8])\n"
   ]
  },
  {
   "cell_type": "code",
   "execution_count": null,
   "metadata": {},
   "outputs": [],
   "source": [
    "#16) ¿Como obtener el numero de veces que se repite un valor en una serie?\n",
    "ser = pd.Series(np.take(list('abcdefgh'), np.random.randint(8, size=30)))\n"
   ]
  },
  {
   "cell_type": "code",
   "execution_count": 87,
   "metadata": {},
   "outputs": [
    {
     "name": "stdout",
     "output_type": "stream",
     "text": [
      "Dataframe:\n",
      "   0  1  2  3  4\n",
      "0  7  2  7  4  4\n",
      "1  7  7  9  2  7\n",
      "2  7  4  5  3  7\n",
      "3  3  6  4  7  5\n",
      "4  5  7  8  7  9\n",
      "5  9  9  4  2  7\n",
      "6  4  5  9  7  1\n"
     ]
    }
   ],
   "source": [
    "#17) ¿Como mantener los 2 valores mas repetidos de una serie, y a los demas valores cambiarles por 0 ?\n",
    "ser = pd.Series(np.random.randint(1, 10, 35))\n",
    "\n",
    "df_ser = pd.DataFrame(ser.values.reshape(7, 5))\n",
    "\n",
    "print(f\"Dataframe:\\n{df_ser}\")"
   ]
  },
  {
   "cell_type": "code",
   "execution_count": 90,
   "metadata": {},
   "outputs": [
    {
     "data": {
      "text/html": [
       "<div>\n",
       "<style scoped>\n",
       "    .dataframe tbody tr th:only-of-type {\n",
       "        vertical-align: middle;\n",
       "    }\n",
       "\n",
       "    .dataframe tbody tr th {\n",
       "        vertical-align: top;\n",
       "    }\n",
       "\n",
       "    .dataframe thead th {\n",
       "        text-align: right;\n",
       "    }\n",
       "</style>\n",
       "<table border=\"1\" class=\"dataframe\">\n",
       "  <thead>\n",
       "    <tr style=\"text-align: right;\">\n",
       "      <th></th>\n",
       "      <th>0</th>\n",
       "      <th>1</th>\n",
       "      <th>2</th>\n",
       "      <th>3</th>\n",
       "      <th>4</th>\n",
       "    </tr>\n",
       "  </thead>\n",
       "  <tbody>\n",
       "    <tr>\n",
       "      <td>0</td>\n",
       "      <td>2</td>\n",
       "      <td>5</td>\n",
       "      <td>3</td>\n",
       "      <td>4</td>\n",
       "      <td>6</td>\n",
       "    </tr>\n",
       "    <tr>\n",
       "      <td>1</td>\n",
       "      <td>7</td>\n",
       "      <td>2</td>\n",
       "      <td>2</td>\n",
       "      <td>2</td>\n",
       "      <td>2</td>\n",
       "    </tr>\n",
       "    <tr>\n",
       "      <td>2</td>\n",
       "      <td>8</td>\n",
       "      <td>8</td>\n",
       "      <td>6</td>\n",
       "      <td>6</td>\n",
       "      <td>7</td>\n",
       "    </tr>\n",
       "    <tr>\n",
       "      <td>3</td>\n",
       "      <td>2</td>\n",
       "      <td>9</td>\n",
       "      <td>2</td>\n",
       "      <td>8</td>\n",
       "      <td>6</td>\n",
       "    </tr>\n",
       "    <tr>\n",
       "      <td>4</td>\n",
       "      <td>3</td>\n",
       "      <td>1</td>\n",
       "      <td>8</td>\n",
       "      <td>4</td>\n",
       "      <td>3</td>\n",
       "    </tr>\n",
       "    <tr>\n",
       "      <td>5</td>\n",
       "      <td>8</td>\n",
       "      <td>5</td>\n",
       "      <td>8</td>\n",
       "      <td>2</td>\n",
       "      <td>6</td>\n",
       "    </tr>\n",
       "    <tr>\n",
       "      <td>6</td>\n",
       "      <td>2</td>\n",
       "      <td>2</td>\n",
       "      <td>2</td>\n",
       "      <td>9</td>\n",
       "      <td>3</td>\n",
       "    </tr>\n",
       "  </tbody>\n",
       "</table>\n",
       "</div>"
      ],
      "text/plain": [
       "   0  1  2  3  4\n",
       "0  2  5  3  4  6\n",
       "1  7  2  2  2  2\n",
       "2  8  8  6  6  7\n",
       "3  2  9  2  8  6\n",
       "4  3  1  8  4  3\n",
       "5  8  5  8  2  6\n",
       "6  2  2  2  9  3"
      ]
     },
     "execution_count": 90,
     "metadata": {},
     "output_type": "execute_result"
    }
   ],
   "source": [
    "#18) ¿Como transformar una serie de un arreglo de numpy a un DataFrame con un shape definido?\n",
    "ser = pd.Series(np.random.randint(1, 10, 35))\n",
    "#shape(7,5)\n",
    "ser=ser.values.reshape(7,5)\n",
    "columnas=np.arange(5)\n",
    "pd.DataFrame(ser,columns=columnas)"
   ]
  },
  {
   "cell_type": "code",
   "execution_count": 91,
   "metadata": {},
   "outputs": [
    {
     "data": {
      "text/plain": [
       "array(['a', 'e', 'i', 'o', 'u'], dtype=object)"
      ]
     },
     "execution_count": 91,
     "metadata": {},
     "output_type": "execute_result"
    }
   ],
   "source": [
    "#19) ¿Obtener los valores de una serie conociendo la posicion por indice?\n",
    "ser = pd.Series(list('abcdefghijklmnopqrstuvwxyz'))\n",
    "pos = [0, 4, 8, 14, 20]\n",
    "# a e i o u\n",
    "ser[pos].values"
   ]
  },
  {
   "cell_type": "code",
   "execution_count": 92,
   "metadata": {},
   "outputs": [
    {
     "name": "stdout",
     "output_type": "stream",
     "text": [
      "   Serie 1 Serie 2\n",
      "0        0       a\n",
      "1        1       b\n",
      "2        2       c\n",
      "3        3       d\n",
      "4        4       e\n"
     ]
    }
   ],
   "source": [
    "#20) ¿Como anadir series vertical u horizontalmente a un DataFrame?\n",
    "ser1 = pd.Series(range(5))\n",
    "ser2 = pd.Series(list('abcde'))\n",
    "#Verticalmente\n",
    "df_vertical=pd.DataFrame(ser1,columns=['Serie 1'])\n",
    "df_vertical['Serie 2']=ser2\n",
    "print(df_vertical)"
   ]
  },
  {
   "cell_type": "code",
   "execution_count": 56,
   "metadata": {},
   "outputs": [],
   "source": [
    "#22)¿Como importar solo columnas especificas de un archivo csv?\n",
    "import pandas as pd\n",
    "import numpy as np\n",
    "import os\n",
    "import sqlite3\n",
    "path = 'C://Users//NICOLE//Documents//GitHub//py-pirca-escobar-nicole-stephanie//03-pandas//Data//artwork_data.csv'\n",
    "df = pd.read_csv(\n",
    "        path,\n",
    "        nrows = 10)\n",
    "\n",
    "columnas = ['id','artist','title','medium','year','acquisitionYear','height','width','units']\n",
    "df2 = pd.read_csv(\n",
    "        path,\n",
    "        nrows = 10,usecols=columnas)\n",
    "\n",
    "df3 = pd.read_csv(\n",
    "        path,\n",
    "        nrows = 10,\n",
    "        usecols=columnas,\n",
    "        index_col = 'id')\n",
    "path_save = 'C://Users//NICOLE//Documents//GitHub//py-pirca-escobar-nicole-stephanie//03-pandas//Data//artwork_data.pickle'\n",
    "path_save2 = 'C://Users//NICOLE//Documents//GitHub//py-pirca-escobar-nicole-stephanie//03-pandas//Data//whole_artwork_data.pickle'\n",
    "\n",
    "df3.to_pickle(path_save)\n",
    "\n",
    "df4 = pd.read_csv(path)\n",
    "df4.to_pickle(path_save2)\n",
    "\n",
    "df5 = pd.read_pickle(path_save2)\n",
    "\n",
    "dfs = pd.read_pickle(path_save2)\n",
    "df = dfs.iloc[49980:50019,:].copy()\n",
    "\n"
   ]
  },
  {
   "cell_type": "code",
   "execution_count": null,
   "metadata": {},
   "outputs": [],
   "source": []
  },
  {
   "cell_type": "code",
   "execution_count": null,
   "metadata": {},
   "outputs": [],
   "source": []
  }
 ],
 "metadata": {
  "kernelspec": {
   "display_name": "Python 3",
   "language": "python",
   "name": "python3"
  },
  "language_info": {
   "codemirror_mode": {
    "name": "ipython",
    "version": 3
   },
   "file_extension": ".py",
   "mimetype": "text/x-python",
   "name": "python",
   "nbconvert_exporter": "python",
   "pygments_lexer": "ipython3",
   "version": "3.7.4"
  }
 },
 "nbformat": 4,
 "nbformat_minor": 2
}
