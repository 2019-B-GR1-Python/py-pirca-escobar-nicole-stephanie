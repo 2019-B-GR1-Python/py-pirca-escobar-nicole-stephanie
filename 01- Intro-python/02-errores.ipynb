{
 "cells": [
  {
   "cell_type": "code",
   "execution_count": 1,
   "metadata": {},
   "outputs": [],
   "source": [
    "# adsasd asdads\n",
    "#errores\n"
   ]
  },
  {
   "cell_type": "code",
   "execution_count": 2,
   "metadata": {},
   "outputs": [
    {
     "name": "stdout",
     "output_type": "stream",
     "text": [
      "Error\n",
      "No se cae  :D\n"
     ]
    }
   ],
   "source": [
    "try: \n",
    "    0/0\n",
    "except Exception as error:\n",
    "    print(\"Error\")\n",
    "print (\"No se cae  :D\")"
   ]
  },
  {
   "cell_type": "code",
   "execution_count": 3,
   "metadata": {},
   "outputs": [
    {
     "name": "stdout",
     "output_type": "stream",
     "text": [
      "Name error\n"
     ]
    }
   ],
   "source": [
    "# errores de escritura\n",
    "try:\n",
    "    a+b\n",
    "    0/0\n",
    "except NameError as nameError:\n",
    "    print(\"Name error\")\n",
    "except ZeroDivisionError as zeroError:\n",
    "    print (\"Zero error\")\n",
    "except Exception as error:\n",
    "    print(\"Error\")"
   ]
  },
  {
   "cell_type": "code",
   "execution_count": 4,
   "metadata": {},
   "outputs": [
    {
     "name": "stdout",
     "output_type": "stream",
     "text": [
      "Zero error\n"
     ]
    }
   ],
   "source": [
    "# errores de escritura\n",
    "try:\n",
    "   # a+b\n",
    "    0/0\n",
    "except NameError as nameError:\n",
    "    print(\"Name error\")\n",
    "except ZeroDivisionError as zeroError:\n",
    "    print (\"Zero error\")\n",
    "except Exception as error:\n",
    "    print(\"Error\")"
   ]
  },
  {
   "cell_type": "code",
   "execution_count": 7,
   "metadata": {},
   "outputs": [],
   "source": [
    "# errores de escritura\n",
    "try:\n",
    "   # a+b\n",
    "    #0/0\n",
    "    a={'b':'b'}\n",
    "    a=['c']\n",
    "except NameError as nameError:\n",
    "    print(\"Name error\")\n",
    "except (ZeroDivisionError, keyError) as errorComun:\n",
    "    print (\"Error agrupado comun\")\n",
    "except Exception as error:\n",
    "    print(\"Error\")"
   ]
  },
  {
   "cell_type": "code",
   "execution_count": null,
   "metadata": {},
   "outputs": [],
   "source": []
  },
  {
   "cell_type": "code",
   "execution_count": null,
   "metadata": {},
   "outputs": [],
   "source": []
  }
 ],
 "metadata": {
  "kernelspec": {
   "display_name": "Python 3",
   "language": "python",
   "name": "python3"
  },
  "language_info": {
   "codemirror_mode": {
    "name": "ipython",
    "version": 3
   },
   "file_extension": ".py",
   "mimetype": "text/x-python",
   "name": "python",
   "nbconvert_exporter": "python",
   "pygments_lexer": "ipython3",
   "version": "3.7.4"
  }
 },
 "nbformat": 4,
 "nbformat_minor": 2
}
