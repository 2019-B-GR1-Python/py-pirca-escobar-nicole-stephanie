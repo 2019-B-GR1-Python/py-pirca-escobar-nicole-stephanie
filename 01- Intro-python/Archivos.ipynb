{
 "cells": [
  {
   "cell_type": "code",
   "execution_count": 14,
   "metadata": {},
   "outputs": [
    {
     "name": "stdout",
     "output_type": "stream",
     "text": [
      "L1: BUENOS DIAS\n",
      "\n",
      "<class 'list'>\n",
      "['gsgf']\n",
      "gsgf\n"
     ]
    }
   ],
   "source": [
    "#Archivos\n",
    "try: \n",
    "    path='Frases.txt'\n",
    "    archivo_abierto=open(path)\n",
    "    linea_uno=archivo_abierto.readline()\n",
    "    print(f\"L1: {linea_uno}\")\n",
    "    \n",
    "    contenido=archivo_abierto.readlines()\n",
    "    print(type(contenido))\n",
    "    print(contenido)\n",
    "    for linea in contenido:\n",
    "        print(linea)\n",
    "    archivo_abierto.close()\n",
    "except Exception as error:\n",
    "    print ('Eror')"
   ]
  },
  {
   "cell_type": "code",
   "execution_count": 15,
   "metadata": {},
   "outputs": [
    {
     "name": "stdout",
     "output_type": "stream",
     "text": [
      "Error\n"
     ]
    }
   ],
   "source": [
    "#\n",
    "try:\n",
    "    path= '/Frases.txt'\n",
    "    archivo_escritura_abierto=open(path, mode=\"a\")\n",
    "    #a=> Append\n",
    "    #w => Write(Sobre escribe)\n",
    "    archivo_escritura_abierto.write(\"Buenas madrugadas\\n\")\n",
    "    archivo_escritura_abierto.writelines([\"ABC\\n\", \"def\\n\"])\n",
    "    archivo_escritura_abierto.close()\n",
    "except Exception as error:\n",
    "    print('Error')"
   ]
  },
  {
   "cell_type": "code",
   "execution_count": null,
   "metadata": {},
   "outputs": [],
   "source": []
  }
 ],
 "metadata": {
  "kernelspec": {
   "display_name": "Python 3",
   "language": "python",
   "name": "python3"
  },
  "language_info": {
   "codemirror_mode": {
    "name": "ipython",
    "version": 3
   },
   "file_extension": ".py",
   "mimetype": "text/x-python",
   "name": "python",
   "nbconvert_exporter": "python",
   "pygments_lexer": "ipython3",
   "version": "3.7.4"
  }
 },
 "nbformat": 4,
 "nbformat_minor": 2
}
