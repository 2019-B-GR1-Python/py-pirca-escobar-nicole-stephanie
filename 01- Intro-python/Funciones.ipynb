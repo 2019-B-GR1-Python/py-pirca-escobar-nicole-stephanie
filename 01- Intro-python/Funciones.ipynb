{
 "cells": [
  {
   "cell_type": "code",
   "execution_count": 1,
   "metadata": {},
   "outputs": [
    {
     "name": "stdout",
     "output_type": "stream",
     "text": [
      "Hola Nicole\n"
     ]
    }
   ],
   "source": [
    "def hola_mundo(): # None es una funcion que no devuelve dada tiene None\n",
    "    print(\"Hola Nicole\")\n",
    "hola_mundo()"
   ]
  },
  {
   "cell_type": "code",
   "execution_count": 7,
   "metadata": {},
   "outputs": [],
   "source": [
    "#Prametros \n",
    "def sumar_dos_numeros (num_uno, num_dos):\n",
    "    return num_uno + num_dos\n",
    "suma= sumar_dos_numeros(1,2)\n"
   ]
  },
  {
   "cell_type": "code",
   "execution_count": 12,
   "metadata": {},
   "outputs": [
    {
     "name": "stdout",
     "output_type": "stream",
     "text": [
      "EPN\n"
     ]
    }
   ],
   "source": [
    "def imprimir_universidad (nombre='EPN'): #Argumentos y parametro opcionales \n",
    "    print(f\"{nombre}\")\n",
    "imprimir_universidad()"
   ]
  },
  {
   "cell_type": "code",
   "execution_count": 13,
   "metadata": {},
   "outputs": [
    {
     "name": "stdout",
     "output_type": "stream",
     "text": [
      "EPN\n"
     ]
    }
   ],
   "source": [
    "def imprimir_universidad (nombre='EPN'): #Argumentos y parametro opcionales \n",
    "    print(f\"{nombre}\")\n",
    "imprimir_universidad()"
   ]
  },
  {
   "cell_type": "code",
   "execution_count": 14,
   "metadata": {},
   "outputs": [
    {
     "name": "stdout",
     "output_type": "stream",
     "text": [
      "color:Blanco\n",
      "placa:abc-123\n",
      "Caballos de fuerza:2000\n",
      "Año:1970\n"
     ]
    }
   ],
   "source": [
    "def imprimir_carro(color, placa, hp, anio):\n",
    "    print(f\"color:{color}\")\n",
    "    print(f\"placa:{placa}\")\n",
    "    print(f\"Caballos de fuerza:{hp}\")\n",
    "    print(f\"Año:{anio}\")\n",
    "imprimir_carro(\"Blanco\",\"abc-123\",2000,1970)"
   ]
  },
  {
   "cell_type": "code",
   "execution_count": 15,
   "metadata": {},
   "outputs": [
    {
     "name": "stdout",
     "output_type": "stream",
     "text": [
      "color:Blanco\n",
      "placa:abc-123\n",
      "Caballos de fuerza:2000\n",
      "Año:1970\n",
      "color:azul\n",
      "placa:def-456\n",
      "Caballos de fuerza:35500\n",
      "Año:2005\n"
     ]
    }
   ],
   "source": [
    "def imprimir_carro(color, placa, hp, anio):\n",
    "    print(f\"color:{color}\")\n",
    "    print(f\"placa:{placa}\")\n",
    "    print(f\"Caballos de fuerza:{hp}\")\n",
    "    print(f\"Año:{anio}\")\n",
    "imprimir_carro(\"Blanco\",\"abc-123\",2000,1970)\n",
    "\n",
    "#datos nombrados \n",
    "imprimir_carro(anio=2005,\n",
    "            color=\"azul\",\n",
    "              placa=\"def-456\",\n",
    "              hp=35500)\n",
    "#para named parameters"
   ]
  },
  {
   "cell_type": "code",
   "execution_count": 17,
   "metadata": {},
   "outputs": [
    {
     "name": "stdout",
     "output_type": "stream",
     "text": [
      "color:Cafe\n",
      "placa:msp-542\n",
      "Caballos de fuerza:3500\n",
      "Año:2003\n"
     ]
    }
   ],
   "source": [
    "def imprimir_carro(color, placa, hp, anio):\n",
    "    print(f\"color:{color}\")\n",
    "    print(f\"placa:{placa}\")\n",
    "    print(f\"Caballos de fuerza:{hp}\")\n",
    "    print(f\"Año:{anio}\")\n",
    "\n",
    "#datos nombrados \n",
    "imprimir_carro(\"Cafe\",\"msp-542\",anio=2003,hp=3500)\n",
    "#para named parameters"
   ]
  },
  {
   "cell_type": "code",
   "execution_count": 18,
   "metadata": {},
   "outputs": [
    {
     "name": "stdout",
     "output_type": "stream",
     "text": [
      "color:Cafe\n",
      "placa:msp-542\n",
      "Caballos de fuerza:3500\n",
      "Año:2003\n"
     ]
    }
   ],
   "source": [
    "def imprimir_carro(color, placa, hp, anio):\n",
    "    print(f\"color:{color}\")\n",
    "    print(f\"placa:{placa}\")\n",
    "    print(f\"Caballos de fuerza:{hp}\")\n",
    "    print(f\"Año:{anio}\")\n",
    "\n",
    "#datos nombrados \n",
    "imprimir_carro(\"Cafe\",\"msp-542\",anio=2003,hp=3500)\n",
    "#para named parameters\n",
    "#Parametros por posicion ejemplo el Cafe (Positional Parameters)\n",
    "\n",
    "\n",
    "#REGLAS\n",
    "# 1) Parametros requeridos 1ero, luego los opcionales\n",
    "# 2) Enviar siempre los parametros requeridos \n",
    "# 3) Si ya se envia un parametro nombrado, los parametros \n",
    "#    que falten de enviarse van a tener que ser nombrados."
   ]
  },
  {
   "cell_type": "code",
   "execution_count": 22,
   "metadata": {},
   "outputs": [
    {
     "data": {
      "text/plain": [
       "3"
      ]
     },
     "execution_count": 22,
     "metadata": {},
     "output_type": "execute_result"
    }
   ],
   "source": [
    "def sumar_numeros (primer_numero, *numeros):# * se define hay infintos \n",
    "    longitud= len(numeros)\n",
    "    if(longitud==0):\n",
    "        return primer_numero\n",
    "    else:\n",
    "        suma=0+ primer_numero\n",
    "        for numero in numeros:\n",
    "            suma=suma+numero\n",
    "            return suma\n",
    "    \n",
    "sumar_numeros(1,2)"
   ]
  },
  {
   "cell_type": "code",
   "execution_count": 28,
   "metadata": {},
   "outputs": [
    {
     "ename": "SyntaxError",
     "evalue": "invalid syntax (<ipython-input-28-39ab33eccc99>, line 1)",
     "output_type": "error",
     "traceback": [
      "\u001b[1;36m  File \u001b[1;32m\"<ipython-input-28-39ab33eccc99>\"\u001b[1;36m, line \u001b[1;32m1\u001b[0m\n\u001b[1;33m    def sumar_numeros ( primer_numero, *numeros, *tuplas):# * se define hay infintos\u001b[0m\n\u001b[1;37m                                                 ^\u001b[0m\n\u001b[1;31mSyntaxError\u001b[0m\u001b[1;31m:\u001b[0m invalid syntax\n"
     ]
    }
   ],
   "source": [
    "def sumar_numeros ( primer_numero, *numeros, *tuplas):# * se define hay infintos \n",
    "    print(type(numeros))\n",
    "    \n",
    "    longitud= len(numeros)\n",
    "    if(longitud==0):\n",
    "        return primer_numero\n",
    "    else:\n",
    "        suma=0+ primer_numero\n",
    "        for numero in numeros:\n",
    "            suma=suma+numero\n",
    "            return suma\n",
    "    \n",
    "sumar_numeros(1,2)"
   ]
  },
  {
   "cell_type": "code",
   "execution_count": 24,
   "metadata": {},
   "outputs": [],
   "source": [
    "# se pone los parametros infinitos al final.\n",
    "# no se puede mandar dos parametros infinitos. "
   ]
  },
  {
   "cell_type": "code",
   "execution_count": 31,
   "metadata": {},
   "outputs": [
    {
     "name": "stdout",
     "output_type": "stream",
     "text": [
      "<class 'dict'>\n",
      "{'tiempo_espera': 10, 'cantidad': 20, 'estilos': 'negros'}\n"
     ]
    }
   ],
   "source": [
    "def imprimir_configuracion (nombre, valor=10,*valores_carga,**key_word_arguments):\n",
    "    print(type(key_word_arguments))\n",
    "    print(key_word_arguments)\n",
    "imprimir_configuracion (\"config_1\",\n",
    "                        20,\n",
    "                        30,\n",
    "                        40,\n",
    "                        50,\n",
    "                       tiempo_espera=10,\n",
    "                       cantidad=20,\n",
    "                       estilos=\"negros\") ##diccionarios \n",
    "\n",
    "#diccionarios de parametros nobrados "
   ]
  },
  {
   "cell_type": "code",
   "execution_count": 36,
   "metadata": {},
   "outputs": [
    {
     "name": "stdout",
     "output_type": "stream",
     "text": [
      "<class 'dict'>\n",
      "{'tiempo_espera': 10, 'cantidad': 20, 'estilos': 'negros'}\n"
     ]
    }
   ],
   "source": [
    "def imprimir_configuracion (nombre, valor=10,**key_word_arguments):\n",
    "    # kwargs\n",
    "    print(type(key_word_arguments))\n",
    "    print(key_word_arguments)\n",
    "imprimir_configuracion (nombre=\"config_1\",\n",
    "                       valor=20,\n",
    "                       tiempo_espera=10,\n",
    "                       cantidad=20,\n",
    "                       estilos=\"negros\") ##diccionarios \n",
    "\n",
    "#diccionarios de parametros nobrados que no estan en la funcion no existen."
   ]
  },
  {
   "cell_type": "code",
   "execution_count": null,
   "metadata": {},
   "outputs": [],
   "source": [
    "# kwargs"
   ]
  },
  {
   "cell_type": "code",
   "execution_count": null,
   "metadata": {},
   "outputs": [],
   "source": []
  }
 ],
 "metadata": {
  "kernelspec": {
   "display_name": "Python 3",
   "language": "python",
   "name": "python3"
  },
  "language_info": {
   "codemirror_mode": {
    "name": "ipython",
    "version": 3
   },
   "file_extension": ".py",
   "mimetype": "text/x-python",
   "name": "python",
   "nbconvert_exporter": "python",
   "pygments_lexer": "ipython3",
   "version": "3.7.4"
  }
 },
 "nbformat": 4,
 "nbformat_minor": 2
}
