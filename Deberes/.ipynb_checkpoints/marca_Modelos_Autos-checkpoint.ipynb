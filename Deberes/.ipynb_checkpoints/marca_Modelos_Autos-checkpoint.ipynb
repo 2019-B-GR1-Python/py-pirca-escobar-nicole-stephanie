{
 "cells": [
  {
   "cell_type": "code",
   "execution_count": 10,
   "metadata": {},
   "outputs": [
    {
     "name": "stdout",
     "output_type": "stream",
     "text": [
      "Selecciona una opción\n",
      "\t1 - Ingresar Modelos\n",
      "\t2 - Eliminar Modelo Registrado\n",
      "\t3 - Consultar Modelos Registrados\n",
      "\t4 - Modificar Modelos Registrados\n",
      "\t5 - Buscar Modelos Registrados\n",
      "\t6 - salir\n",
      "Elija una opción 1\n",
      "1. \n",
      "  Registros de Modelos\n",
      "\n",
      "  Ingrese la información del modelo a ingresar\n",
      "\n",
      "  Codigo: 123\n",
      "  Nombre: MAZDA\n",
      "  Descripcion: AUTO PEQUEÑO\n",
      "  Color: VERDE\n",
      "  Precio: 25000\n",
      "\n",
      " Ingreso del Modelo exitoso *\n",
      "\n",
      "Selecciona una opción\n",
      "\t1 - Ingresar Modelos\n",
      "\t2 - Eliminar Modelo Registrado\n",
      "\t3 - Consultar Modelos Registrados\n",
      "\t4 - Modificar Modelos Registrados\n",
      "\t5 - Buscar Modelos Registrados\n",
      "\t6 - salir\n",
      "Elija una opción 6\n"
     ]
    }
   ],
   "source": [
    "def menu_principal ():\n",
    "    print (\"Selecciona una opción\")\n",
    "    print (\"\\t1 - Ingresar Modelos\")\n",
    "    print (\"\\t2 - Eliminar Modelo Registrado\")\n",
    "    print (\"\\t3 - Consultar Modelos Registrados\")\n",
    "    print (\"\\t4 - Modificar Modelos Registrados\")\n",
    "    print (\"\\t5 - Buscar Modelos Registrados\")\n",
    "    print (\"\\t6 - salir\")\n",
    "\n",
    "while True:\n",
    "    menu_principal()\n",
    "      \n",
    "    opcionMenu = input(\"Elija una opción \")\n",
    "            \n",
    "    if opcionMenu==\"1\":\n",
    "        print(\"1. \\n  Registros de Modelos\")\n",
    "        ingresar_modelos()\n",
    "     \n",
    "    elif opcionMenu==\"2\": \n",
    "        print(\"2. \\n Eliminar Modelo Registrado\")\n",
    "        eliminar_modelo()\n",
    "        \n",
    "    elif opcionMenu==\"3\":\n",
    "        print(\"3. \\n Consultar Modelos Registrados\")\n",
    "        leer_Modelos()  \n",
    "        \n",
    "    elif opcionMenu==\"4\":\n",
    "        print(\"4. \\n Modificar Modelos Registrados\")\n",
    "        modificar_modelo()\n",
    "        \n",
    "    elif opcionMenu==\"5\":\n",
    "        print(\"4. \\n Buscar Modelos Registrados\")\n",
    "        buscar_modelo()\n",
    "   \n",
    "    elif opcionMenu==\"6\":\n",
    "        break\n",
    "    else:\n",
    "        input(\"No has pulsado ninguna opción correcta...\\npulsa una tecla para continuar\")\n",
    "\n",
    "\n"
   ]
  },
  {
   "cell_type": "code",
   "execution_count": null,
   "metadata": {},
   "outputs": [],
   "source": [
    "\n",
    "\n",
    "\n"
   ]
  },
  {
   "cell_type": "code",
   "execution_count": 12,
   "metadata": {},
   "outputs": [
    {
     "name": "stdout",
     "output_type": "stream",
     "text": [
      "\n",
      "MODELOS\n",
      "\n",
      "  123, MAZDA,AUTO PEQUEÑO, VERDE, 25000\n",
      "\n"
     ]
    }
   ],
   "source": [
    "def leer_Modelos():\n",
    "    try:\n",
    "        path='./modelo.txt'\n",
    "        archivo_abierto = open(path)\n",
    "        lineas= archivo_abierto.readlines()\n",
    "        print(\"\\nMODELOS\\n\")\n",
    "        for linea in lineas:\n",
    "            print(f \"  {linea}\")\n",
    "        archivo_abierto.close\n",
    "    except Exception as error:\n",
    "        print(f \"Error en lectura: {error}\")\n",
    "        \n"
   ]
  },
  {
   "cell_type": "code",
   "execution_count": 2,
   "metadata": {},
   "outputs": [],
   "source": [
    "def ingresar_modelos():\n",
    "    print(\"\\n  Ingrese la información del modelo a ingresar\\n\")\n",
    "    codigo = input(\"  Codigo: \")\n",
    "    nombre = input(\"  Nombre: \")\n",
    "    descripcion = input(\"  Descripcion: \")\n",
    "    color = input(\"  Color: \")\n",
    "    precio = input(\"  Precio: \")\n",
    "    try:\n",
    "        path = \"./modelo.txt\"\n",
    "        archivo_escritura_abierto = open(path,mode=\"a\") \n",
    "        archivo_escritura_abierto.writelines([f\"{codigo}, {nombre},{descripcion}, {color}, {precio}\\n\"])\n",
    "        archivo_escritura_abierto.close()\n",
    "        print(\"\\n Ingreso del Modelo exitoso *\\n\")\n",
    "    except Exception as error:\n",
    "        print(f \"Error en el ingreso: {error}\")\n"
   ]
  },
  {
   "cell_type": "code",
   "execution_count": 7,
   "metadata": {},
   "outputs": [
    {
     "name": "stdout",
     "output_type": "stream",
     "text": [
      "\n",
      "  Ingrese el codigo a modificar: 123\n",
      "  Ingrese el nuevo nombre del modelo: MAZDA\n",
      "  Ingrese el nuevo precio: 30000\n",
      "\n",
      "  Modelo 123 modificado \n",
      "\n"
     ]
    }
   ],
   "source": [
    "def modificar_modelo():\n",
    "    codigo = input(\"\\n  Ingrese el codigo a modificar: \")\n",
    "    try:\n",
    "        path=\"./modelo.txt\"\n",
    "        archivo_abierto = open(path, mode=\"r+\")\n",
    "        lineas = archivo_abierto.readlines()\n",
    "        archivo_abierto.seek(0)\n",
    "        for linea in lineas:\n",
    "            if codigo in linea:\n",
    "                nombre = input(\"  Ingrese el nuevo nombre del modelo: \")\n",
    "                precio = input(\"  Ingrese el nuevo precio: \")\n",
    "                modelo_modificado = f\"{codigo}  , {nombre}  , {precio}\\n\"\n",
    "                archivo_abierto.write(modelo_modificado)\n",
    "                archivo_abierto.truncate()\n",
    "                print(f \"\\n  Modelo {codigo} modificado \\n\")\n",
    "            else:\n",
    "                archivo_abierto.write(linea)\n",
    "                archivo_abierto.truncate()\n",
    "    except Exception as error:\n",
    "        print(f \"Error en actualizacion: {error}\")\n"
   ]
  },
  {
   "cell_type": "code",
   "execution_count": 15,
   "metadata": {},
   "outputs": [
    {
     "name": "stdout",
     "output_type": "stream",
     "text": [
      "\n",
      "  Ingrese el codigo a eliminar: 123\n",
      "\n",
      "  Eliminado: 123 \n",
      "\n"
     ]
    }
   ],
   "source": [
    "def eliminar_modelo():\n",
    "    codigo = input(\"\\n  Ingrese el codigo a eliminar: \")\n",
    "    try:\n",
    "        path=\"./modelo.txt\"\n",
    "        archivo_abierto = open(path, mode=\"r+\")\n",
    "        lineas = archivo_abierto.readlines()\n",
    "        archivo_abierto.seek(0)\n",
    "        for linea in lineas:\n",
    "            if not codigo in linea:\n",
    "                archivo_abierto.write(linea)\n",
    "                archivo_abierto.truncate()\n",
    "        print(f \"\\n  Eliminado: {codigo} \\n\")\n",
    "    except Exception as error:\n",
    "        print(f \"Error en actualizacion: {error}\")\n",
    "eliminar_modelo()"
   ]
  },
  {
   "cell_type": "code",
   "execution_count": null,
   "metadata": {},
   "outputs": [],
   "source": [
    "def buscar_modelo():\n",
    "    codigo = input(\"\\n  Ingrese el codigo del modelo: \")\n",
    "    try:\n",
    "        path=\"./modelo.txt\"\n",
    "        archivo_abierto = open(path)\n",
    "        lineas = archivo_abierto.readlines()\n",
    "        for linea in lineas:\n",
    "            if not codigo in linea:\n",
    "                archivo_abierto.write(linea)\n",
    "                archivo_abierto.truncate()\n",
    "        print(f \"\\n  Encontrado: {codigo} \\n\")\n",
    "    except Exception as error:\n",
    "        print(f \"Modelo no encontrado: {error}\")\n",
    "buscar_modelo()"
   ]
  },
  {
   "cell_type": "code",
   "execution_count": null,
   "metadata": {},
   "outputs": [],
   "source": []
  }
 ],
 "metadata": {
  "kernelspec": {
   "display_name": "Python 3",
   "language": "python",
   "name": "python3"
  },
  "language_info": {
   "codemirror_mode": {
    "name": "ipython",
    "version": 3
   },
   "file_extension": ".py",
   "mimetype": "text/x-python",
   "name": "python",
   "nbconvert_exporter": "python",
   "pygments_lexer": "ipython3",
   "version": "3.7.3"
  }
 },
 "nbformat": 4,
 "nbformat_minor": 2
}
