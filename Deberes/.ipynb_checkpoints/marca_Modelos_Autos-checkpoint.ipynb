{
 "cells": [
  {
   "cell_type": "code",
   "execution_count": 5,
   "metadata": {},
   "outputs": [
    {
     "name": "stdout",
     "output_type": "stream",
     "text": [
      "Selecciona una opción\n",
      "\t1 - Ingresar Modelos\n",
      "\t2 - Eliminar Modelo Registrado\n",
      "\t3 - Consultar Modelos Registrados\n",
      "\t4 - salir\n",
      "inserta un numero valor >> 1\n",
      "Has pulsado la opción 1...\\Registros de Modelos\n"
     ]
    },
    {
     "ename": "NameError",
     "evalue": "name 'Modelo' is not defined",
     "output_type": "error",
     "traceback": [
      "\u001b[1;31m---------------------------------------------------------------------------\u001b[0m",
      "\u001b[1;31mNameError\u001b[0m                                 Traceback (most recent call last)",
      "\u001b[1;32m<ipython-input-5-e982080ffbcd>\u001b[0m in \u001b[0;36m<module>\u001b[1;34m\u001b[0m\n\u001b[0;32m     13\u001b[0m     \u001b[1;32mif\u001b[0m \u001b[0mopcionMenu\u001b[0m\u001b[1;33m==\u001b[0m\u001b[1;34m\"1\"\u001b[0m\u001b[1;33m:\u001b[0m\u001b[1;33m\u001b[0m\u001b[1;33m\u001b[0m\u001b[0m\n\u001b[0;32m     14\u001b[0m         \u001b[0mprint\u001b[0m\u001b[1;33m(\u001b[0m\u001b[1;34m\"Has pulsado la opción 1...\\Registros de Modelos\"\u001b[0m\u001b[1;33m)\u001b[0m\u001b[1;33m\u001b[0m\u001b[1;33m\u001b[0m\u001b[0m\n\u001b[1;32m---> 15\u001b[1;33m         \u001b[0mnuevo_Modelo\u001b[0m \u001b[1;33m=\u001b[0m \u001b[0mModelo\u001b[0m\u001b[1;33m(\u001b[0m\u001b[1;34m\"\"\u001b[0m\u001b[1;33m,\u001b[0m\u001b[1;34m\"\"\u001b[0m\u001b[1;33m,\u001b[0m\u001b[1;34m\"\"\u001b[0m\u001b[1;33m,\u001b[0m\u001b[1;34m\"\"\u001b[0m\u001b[1;33m)\u001b[0m\u001b[1;33m\u001b[0m\u001b[1;33m\u001b[0m\u001b[0m\n\u001b[0m\u001b[0;32m     16\u001b[0m \u001b[1;33m\u001b[0m\u001b[0m\n\u001b[0;32m     17\u001b[0m     \u001b[1;32melif\u001b[0m \u001b[0mopcionMenu\u001b[0m\u001b[1;33m==\u001b[0m\u001b[1;34m\"2\"\u001b[0m\u001b[1;33m:\u001b[0m\u001b[1;33m\u001b[0m\u001b[1;33m\u001b[0m\u001b[0m\n",
      "\u001b[1;31mNameError\u001b[0m: name 'Modelo' is not defined"
     ]
    }
   ],
   "source": [
    "def menu_principal ():\n",
    "    print (\"Selecciona una opción\")\n",
    "    print (\"\\t1 - Ingresar Modelos\")\n",
    "    print (\"\\t2 - Eliminar Modelo Registrado\")\n",
    "    print (\"\\t3 - Consultar Modelos Registrados\")\n",
    "    print (\"\\t4 - salir\")\n",
    "\n",
    "while True:\n",
    "    menu_principal()\n",
    "      \n",
    "    opcionMenu = input(\"inserta un numero valor >> \")\n",
    "            #es mas recomendable\n",
    "    if opcionMenu==\"1\":\n",
    "        print(\"Has pulsado la opción 1...\\Registros de Modelos\")\n",
    "        nuevo_Modelo = Modelo(\"\",\"\",\"\",\"\")\n",
    "     \n",
    "    elif opcionMenu==\"2\": \n",
    "        \n",
    "        print(\"opción 2...\\n Eliminar Modelo registrado \\n pulsa una tecla para continuar\")\n",
    "        \n",
    "        \n",
    "    elif opcionMenu==\"3\":\n",
    "        print(\"opción 3...\\nConsultar Modelos Registrados \\n pulsa una tecla para continuar\")\n",
    "        consulta_Modelo()\n",
    "   \n",
    "    elif opcionMenu==\"4\":\n",
    "        break\n",
    "    else:\n",
    "        input(\"No has pulsado ninguna opción correcta...\\npulsa una tecla para continuar\")\n",
    "\n",
    "\n",
    "class Modelo:\n",
    "    \n",
    "    nombre=\"\"\n",
    "    color=\"\"\n",
    "    caracteristica=\"\"\n",
    "    precio=\"\"\n",
    "    path='./modelo.txt'\n",
    "       \n",
    "    def __init__(self,nombre,color,caracteristica,precio):   \n",
    "        \n",
    "        archivo_escritura_abierto = open(path, mode=\"a\")\n",
    "        print(\"Nombre del Modelo: \")\n",
    "        nom_Modelo=input(self.nombre) \n",
    "        self.nombre = nombre\n",
    "                \n",
    "        print(\"Color del Modelo: \")\n",
    "        col_Modelo=input(self.color) \n",
    "        self.color = color\n",
    "                \n",
    "        print(\"Caracteristicas del Modelo: \")\n",
    "        carac_Modelo=input(self.caracteristica) \n",
    "        self.caracteristica = caracteristica\n",
    "                \n",
    "        print(\"Precio del Modelo: \")\n",
    "        precio_Modelo=input(self.precio) \n",
    "        self.precio = precio\n",
    "        archivo_escritura_abierto.writelines([nom_Modelo,\"\\n\",col_Modelo,\"\\n\",carac_Modelo,\"\\n\",precio_Modelo])\n",
    "        \n",
    "        print(\"REGISTRO INGRESADO CON EXITO\")\n",
    "    \n",
    "    def __str__(self):\n",
    "        return (f\"Color: {self.color}\\nNombre: {self.nombre}\")   \n",
    "   \n",
    "\n",
    "\n"
   ]
  },
  {
   "cell_type": "code",
   "execution_count": 17,
   "metadata": {},
   "outputs": [
    {
     "ename": "NameError",
     "evalue": "name 'path' is not defined",
     "output_type": "error",
     "traceback": [
      "\u001b[1;31m---------------------------------------------------------------------------\u001b[0m",
      "\u001b[1;31mNameError\u001b[0m                                 Traceback (most recent call last)",
      "\u001b[1;32m<ipython-input-17-9df983e5c4a0>\u001b[0m in \u001b[0;36m<module>\u001b[1;34m\u001b[0m\n\u001b[0;32m     32\u001b[0m         \u001b[1;32mreturn\u001b[0m \u001b[1;33m(\u001b[0m\u001b[1;34mf\"Color: {self.color}\\nNombre: {self.nombre}\"\u001b[0m\u001b[1;33m)\u001b[0m\u001b[1;33m\u001b[0m\u001b[1;33m\u001b[0m\u001b[0m\n\u001b[0;32m     33\u001b[0m \u001b[1;33m\u001b[0m\u001b[0m\n\u001b[1;32m---> 34\u001b[1;33m \u001b[0mnuevo_Modelo\u001b[0m \u001b[1;33m=\u001b[0m \u001b[0mModelo\u001b[0m\u001b[1;33m(\u001b[0m\u001b[1;34m\"\"\u001b[0m\u001b[1;33m,\u001b[0m\u001b[1;34m\"\"\u001b[0m\u001b[1;33m,\u001b[0m\u001b[1;34m\"\"\u001b[0m\u001b[1;33m,\u001b[0m\u001b[1;34m\"\"\u001b[0m\u001b[1;33m)\u001b[0m\u001b[1;33m\u001b[0m\u001b[1;33m\u001b[0m\u001b[0m\n\u001b[0m\u001b[0;32m     35\u001b[0m \u001b[1;33m\u001b[0m\u001b[0m\n",
      "\u001b[1;32m<ipython-input-17-9df983e5c4a0>\u001b[0m in \u001b[0;36m__init__\u001b[1;34m(self, nombre, color, caracteristica, precio)\u001b[0m\n\u001b[0;32m      9\u001b[0m     \u001b[1;32mdef\u001b[0m \u001b[0m__init__\u001b[0m\u001b[1;33m(\u001b[0m\u001b[0mself\u001b[0m\u001b[1;33m,\u001b[0m\u001b[0mnombre\u001b[0m\u001b[1;33m,\u001b[0m\u001b[0mcolor\u001b[0m\u001b[1;33m,\u001b[0m\u001b[0mcaracteristica\u001b[0m\u001b[1;33m,\u001b[0m\u001b[0mprecio\u001b[0m\u001b[1;33m)\u001b[0m\u001b[1;33m:\u001b[0m   \u001b[1;31m#definir constructor (__init__). SELF = this\u001b[0m\u001b[1;33m\u001b[0m\u001b[1;33m\u001b[0m\u001b[0m\n\u001b[0;32m     10\u001b[0m \u001b[1;33m\u001b[0m\u001b[0m\n\u001b[1;32m---> 11\u001b[1;33m         \u001b[0marchivo_escritura_abierto\u001b[0m \u001b[1;33m=\u001b[0m \u001b[0mopen\u001b[0m\u001b[1;33m(\u001b[0m\u001b[0mpath\u001b[0m\u001b[1;33m,\u001b[0m \u001b[0mmode\u001b[0m\u001b[1;33m=\u001b[0m\u001b[1;34m\"a\"\u001b[0m\u001b[1;33m)\u001b[0m\u001b[1;33m\u001b[0m\u001b[1;33m\u001b[0m\u001b[0m\n\u001b[0m\u001b[0;32m     12\u001b[0m         \u001b[0mprint\u001b[0m\u001b[1;33m(\u001b[0m\u001b[1;34m\"Nombre del Modelo: \"\u001b[0m\u001b[1;33m)\u001b[0m\u001b[1;33m\u001b[0m\u001b[1;33m\u001b[0m\u001b[0m\n\u001b[0;32m     13\u001b[0m         \u001b[0mnom_Modelo\u001b[0m\u001b[1;33m=\u001b[0m\u001b[0minput\u001b[0m\u001b[1;33m(\u001b[0m\u001b[0mself\u001b[0m\u001b[1;33m.\u001b[0m\u001b[0mnombre\u001b[0m\u001b[1;33m)\u001b[0m\u001b[1;33m\u001b[0m\u001b[1;33m\u001b[0m\u001b[0m\n",
      "\u001b[1;31mNameError\u001b[0m: name 'path' is not defined"
     ]
    }
   ],
   "source": [
    "class Modelo:\n",
    "    \n",
    "    nombre=\"\"\n",
    "    color=\"\"\n",
    "    caracteristica=\"\"\n",
    "    precio=\"\"\n",
    "    path='./modelo.txt'\n",
    "       \n",
    "    def __init__(self,nombre,color,caracteristica,precio):  \n",
    "        \n",
    "        archivo_escritura_abierto = open(path, mode=\"a\")\n",
    "        print(\"Nombre del Modelo: \")\n",
    "        nom_Modelo=input(self.nombre) \n",
    "        self.nombre = nombre\n",
    "                \n",
    "        print(\"Color del Modelo: \")\n",
    "        col_Modelo=input(self.color) \n",
    "        self.color = color\n",
    "                \n",
    "        print(\"Caracteristicas del Modelo: \")\n",
    "        carac_Modelo=input(self.caracteristica) \n",
    "        self.caracteristica = caracteristica\n",
    "                \n",
    "        print(\"Precio del Modelo: \")\n",
    "        precio_Modelo=input(self.precio) \n",
    "        self.precio = precio\n",
    "        archivo_escritura_abierto.writelines([nom_Modelo,\"\\n\",col_Modelo,\"\\n\",carac_Modelo,\"\\n\",precio_Modelo])\n",
    "        \n",
    "        print(\"REGISTRO INGRESADO CON EXITO\")\n",
    "    \n",
    "    def __str__(self):\n",
    "        return (f\"Color: {self.color}\\nNombre: {self.nombre}\")   \n",
    "    \n",
    "nuevo_Modelo = Modelo(\"\",\"\",\"\",\"\")\n",
    " "
   ]
  },
  {
   "cell_type": "code",
   "execution_count": null,
   "metadata": {},
   "outputs": [],
   "source": []
  }
 ],
 "metadata": {
  "kernelspec": {
   "display_name": "Python 3",
   "language": "python",
   "name": "python3"
  },
  "language_info": {
   "codemirror_mode": {
    "name": "ipython",
    "version": 3
   },
   "file_extension": ".py",
   "mimetype": "text/x-python",
   "name": "python",
   "nbconvert_exporter": "python",
   "pygments_lexer": "ipython3",
   "version": "3.7.3"
  }
 },
 "nbformat": 4,
 "nbformat_minor": 2
}
