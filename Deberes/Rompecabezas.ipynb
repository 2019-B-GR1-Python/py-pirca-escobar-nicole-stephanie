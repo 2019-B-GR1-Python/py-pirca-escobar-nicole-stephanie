{
 "cells": [
  {
   "cell_type": "code",
   "execution_count": null,
   "metadata": {},
   "outputs": [],
   "source": [
    "import matplotlib.pyplot as plt"
   ]
  },
  {
   "cell_type": "code",
   "execution_count": null,
   "metadata": {},
   "outputs": [],
   "source": [
    "import numpy as np\n",
    "from scipy import ndimage\n",
    "from scipy import misc"
   ]
  },
  {
   "cell_type": "code",
   "execution_count": null,
   "metadata": {},
   "outputs": [],
   "source": [
    "mapache= misc.face()\n",
    "mapache"
   ]
  },
  {
   "cell_type": "code",
   "execution_count": null,
   "metadata": {},
   "outputs": [],
   "source": [
    "plt.imshow(mapache)\n",
    "plt.show"
   ]
  },
  {
   "cell_type": "code",
   "execution_count": null,
   "metadata": {},
   "outputs": [],
   "source": [
    "#todo rojo\n",
    "mapache_red=np.copy(mapache)\n",
    "mapache_red[:,:,1]=0\n",
    "mapache_red[:,:,2]=0\n",
    "plt.title(\"mapache canal rojo\")\n",
    "plt.imshow(mapache_red)"
   ]
  },
  {
   "cell_type": "code",
   "execution_count": null,
   "metadata": {},
   "outputs": [],
   "source": [
    "#Para hacer una inspección detallada de variaciones de intensidad podemos usar interpolation='nearest'\n",
    "mapache_inspeccion=np.copy(mapache)\n",
    "plt.imshow(mapache_inspeccion[100:800, 250:600], cmap=plt.cm.gray)\n",
    "plt.imshow(mapache_inspeccion[100:800, 250:600], cmap=plt.cm.gray, interpolation='nearest')"
   ]
  },
  {
   "cell_type": "code",
   "execution_count": null,
   "metadata": {},
   "outputs": [],
   "source": [
    "plt.imshow(mapache[0:7])\n",
    "plt.show "
   ]
  },
  {
   "cell_type": "code",
   "execution_count": null,
   "metadata": {},
   "outputs": [],
   "source": [
    "import cv2\n",
    "import numpy as np\n"
   ]
  },
  {
   "cell_type": "code",
   "execution_count": null,
   "metadata": {},
   "outputs": [],
   "source": [
    "mapache_inspeccion=np.copy(mapache)\n",
    "new =plt.imshow(mapache_inspeccion[100:500, 250:600], cmap=plt.cm.gray)\n",
    "print(\"kol\", new)"
   ]
  },
  {
   "cell_type": "code",
   "execution_count": null,
   "metadata": {},
   "outputs": [],
   "source": [
    "import Image \n",
    "import os \n",
    "def crop(infile,height,width): \n",
    "    im = Image.open(infile) imgwidth, imgheight = im.size \n",
    "    for i in range(imgheight//height): \n",
    "        for j in range(imgwidth//width): \n",
    "            box = (j*width, i*height, (j+1)*width, (i+1)*height) \n",
    "            yield im.crop(box) \n",
    "            if __name__=='__main__': infile=... height=... width=... start_num=... for k,piece in enumerate(crop(infile,height,width),start_num): img=Image.new('RGB', (height,width), 255) img.paste(piece) path=os.path.join('/tmp',\"IMG-%s.png\" % k) img.save(path) \n"
   ]
  },
  {
   "cell_type": "code",
   "execution_count": null,
   "metadata": {},
   "outputs": [],
   "source": [
    "import matplotlib.pyplot as plt\n",
    "import os\n",
    "import numpy as np\n",
    "from scipy import misc\n"
   ]
  },
  {
   "cell_type": "code",
   "execution_count": null,
   "metadata": {},
   "outputs": [],
   "source": [
    "def rompecabezas():\n",
    "    mapache = misc.face()\n",
    "    print(\"Imagen Original\")\n",
    "    plt.imshow(mapache)\n",
    "    plt.show()\n",
    "    num_partes = input(\"Ingrese un numero par de division del tablero    \")\n",
    "    mapache_partes_rompecabezas = np.vsplit(mapache,int(num_partes))\n",
    "    piezasI = np.random.permutation(int(num_partes))\n",
    "    mapache_random = np.concatenate(list(map(lambda x: mapache_partes_rompecabezas[x],piezasI)))\n",
    "    print(\"Imagen Random Mapache\")\n",
    "    plt.imshow(mapache_random)\n",
    "    plt.show()\n",
    "\n",
    "rompecabezas()\n",
    "\n"
   ]
  },
  {
   "cell_type": "code",
   "execution_count": null,
   "metadata": {},
   "outputs": [],
   "source": [
    "def menu_principal ():\n",
    "    print (\"Selecciona una opción\")\n",
    "    print (\"\\t1 - JUGAR\")\n",
    "    print (\"\\t2 - SALIR\")\n",
    "       \n",
    "while True:\n",
    "    menu_principal()\n",
    "    opcionMenu = input(\"Elija una opción \")\n",
    "    if opcionMenu ==\"1\":\n",
    "        print(\"STAR GAME\")\n",
    "        posicion_a = input(\"Parte de la imagen a mover: \")\n",
    "        posicion_b = input(\"Posicion a la que desea mover: \")\n",
    "        pieza_temporal = piezasI[int(posicion_a)]\n",
    "        piezasI[int(posicion_a)] = piezasI[int(posicion_b)]\n",
    "        piezasI[int(posicion_b)] = pieza_temporal\n",
    "        \n",
    "        mapache_desordenado = np.concatenate(list(map(lambda x: mapache_partes_rompecabezas[x],piezasI)))\n",
    "        plt.imshow(mapache_desordenado)\n",
    "        plt.show()\n",
    "    elif opcionMenu ==\"2\":\n",
    "        print(\"GAME OVER\")\n",
    "        break\n",
    "def rompecabezas():\n",
    "    mapache = misc.face()\n",
    "    print(\"Imagen Original\")\n",
    "    plt.imshow(mapache)\n",
    "    plt.show()\n",
    "    num_partes = input(\"Ingrese un numero par de division del tablero    \")\n",
    "    mapache_partes_rompecabezas = np.vsplit(mapache,int(num_partes))\n",
    "    piezasI = np.random.permutation(int(num_partes))\n",
    "    mapache_random = np.concatenate(list(map(lambda x: mapache_partes_rompecabezas[x],piezasI)))\n",
    "    print(\"Imagen Random Mapache\")\n",
    "    plt.imshow(mapache_random)\n",
    "    plt.show()\n",
    "    "
   ]
  },
  {
   "cell_type": "code",
   "execution_count": null,
   "metadata": {},
   "outputs": [],
   "source": []
  },
  {
   "cell_type": "code",
   "execution_count": null,
   "metadata": {},
   "outputs": [],
   "source": []
  },
  {
   "cell_type": "code",
   "execution_count": null,
   "metadata": {},
   "outputs": [],
   "source": []
  }
 ],
 "metadata": {
  "kernelspec": {
   "display_name": "Python 3",
   "language": "python",
   "name": "python3"
  },
  "language_info": {
   "codemirror_mode": {
    "name": "ipython",
    "version": 3
   },
   "file_extension": ".py",
   "mimetype": "text/x-python",
   "name": "python",
   "nbconvert_exporter": "python",
   "pygments_lexer": "ipython3",
   "version": "3.7.3"
  }
 },
 "nbformat": 4,
 "nbformat_minor": 2
}
