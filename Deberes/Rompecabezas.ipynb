{
 "cells": [
  {
   "cell_type": "code",
   "execution_count": null,
   "metadata": {},
   "outputs": [],
   "source": [
    "import matplotlib.pyplot as plt"
   ]
  },
  {
   "cell_type": "code",
   "execution_count": null,
   "metadata": {},
   "outputs": [],
   "source": [
    "import numpy as np\n",
    "from scipy import ndimage\n",
    "from scipy import misc"
   ]
  },
  {
   "cell_type": "code",
   "execution_count": null,
   "metadata": {},
   "outputs": [],
   "source": [
    "mapache= misc.face()\n",
    "mapache"
   ]
  },
  {
   "cell_type": "code",
   "execution_count": null,
   "metadata": {},
   "outputs": [],
   "source": [
    "plt.imshow(mapache)\n",
    "plt.show"
   ]
  },
  {
   "cell_type": "code",
   "execution_count": null,
   "metadata": {},
   "outputs": [],
   "source": [
    "#todo rojo\n",
    "mapache_red=np.copy(mapache)\n",
    "mapache_red[:,:,1]=0\n",
    "mapache_red[:,:,2]=0\n",
    "plt.title(\"mapache canal rojo\")\n",
    "plt.imshow(mapache_red)"
   ]
  },
  {
   "cell_type": "code",
   "execution_count": null,
   "metadata": {},
   "outputs": [],
   "source": [
    "#Para hacer una inspección detallada de variaciones de intensidad podemos usar interpolation='nearest'\n",
    "mapache_inspeccion=np.copy(mapache)\n",
    "plt.imshow(mapache_inspeccion[100:800, 250:600], cmap=plt.cm.gray)\n",
    "plt.imshow(mapache_inspeccion[100:800, 250:600], cmap=plt.cm.gray, interpolation='nearest')"
   ]
  },
  {
   "cell_type": "code",
   "execution_count": null,
   "metadata": {},
   "outputs": [],
   "source": [
    "plt.imshow(mapache[0:7])\n",
    "plt.show "
   ]
  },
  {
   "cell_type": "code",
   "execution_count": null,
   "metadata": {},
   "outputs": [],
   "source": []
  },
  {
   "cell_type": "code",
   "execution_count": null,
   "metadata": {},
   "outputs": [],
   "source": []
  },
  {
   "cell_type": "code",
   "execution_count": null,
   "metadata": {},
   "outputs": [],
   "source": []
  },
  {
   "cell_type": "code",
   "execution_count": 1,
   "metadata": {},
   "outputs": [],
   "source": [
    "import matplotlib.pyplot as plt\n",
    "import os\n",
    "import numpy as np\n",
    "from scipy import misc\n"
   ]
  },
  {
   "cell_type": "code",
   "execution_count": null,
   "metadata": {},
   "outputs": [],
   "source": [
    "def rompecabezas():\n",
    "    mapache = misc.face()\n",
    "    print(\"Imagen Original\")\n",
    "    plt.imshow(mapache)\n",
    "    plt.show()\n",
    "    num_partes = input(\"Ingrese un numero par de division del tablero    \")\n",
    "    mapache_partes_rompecabezas = np.vsplit(mapache,int(num_partes))\n",
    "    piezas_num = np.random.permutation(int(num_partes))\n",
    "    mapache_random = np.concatenate(list(map(lambda x: mapache_partes_rompecabezas[x],piezas_num)))\n",
    "    print(\"Imagen Random Mapache\")\n",
    "    plt.imshow(mapache_random)\n",
    "    plt.show()"
   ]
  },
  {
   "cell_type": "code",
   "execution_count": null,
   "metadata": {
    "scrolled": true
   },
   "outputs": [],
   "source": [
    "def menu_principal ():\n",
    "    os.system('clear')\n",
    "    print (\"Selecciona una opción\")\n",
    "    print (\"\\t1 - JUGAR\")\n",
    "    print (\"\\t2 - SALIR\")\n",
    "       \n",
    "while True:\n",
    "    menu_principal()\n",
    "    opcionMenu = input(\"Elija una opción \")\n",
    "    if opcionMenu ==\"1\":\n",
    "        print(\"STAR GAME\")\n",
    "        rompecabezas()\n",
    "        print(\"STAR GAME\")\n",
    "        posicion_old = input(\"Posicion Imagen a mover: \")\n",
    "        posicion_new = input(\"Nueva Posicion a mover: \")\n",
    "        aux = piezas_num[int(posicion_old)]\n",
    "        piezas_num[int(posicion_old)] = piezas_num[int(posicion_new)]\n",
    "        piezas_num[int(posicion_new)] = aux\n",
    "        \n",
    "        mapache_randomt = np.concatenate(list(map(lambda x: mapache_partes_rompecabezas[x],piezas_num)))\n",
    "        plt.imshow(mapache_randomt)\n",
    "        plt.show()\n",
    "    elif opcionMenu ==\"2\":\n",
    "        print(\"GAME OVER\")\n",
    "        break\n",
    "        \n",
    "\n",
    "    "
   ]
  },
  {
   "cell_type": "code",
   "execution_count": 5,
   "metadata": {},
   "outputs": [],
   "source": [
    "def dibujar():\n",
    "    mapache = misc.face()\n",
    "    print(\"Imagen Original\")\n",
    "    plt.imshow(mapache)\n",
    "    plt.show()\n",
    "    num_partes = input(\"Ingrese un numero par de division del tablero    \")\n",
    "    mapache_partes_rompecabezas = np.vsplit(mapache,int(num_partes))\n",
    "    piezas_num = np.random.permutation(int(num_partes))\n",
    "    mapache_random = np.concatenate(list(map(lambda x: mapache_partes_rompecabezas[x],piezas_num)))\n",
    "    print(\"Imagen Random Mapache\")\n",
    "    plt.imshow(mapache_random)\n",
    "    plt.show()"
   ]
  },
  {
   "cell_type": "code",
   "execution_count": null,
   "metadata": {},
   "outputs": [],
   "source": [
    "def menu_principal ():\n",
    "    os.system('clear')\n",
    "    print (\"Selecciona una opción\")\n",
    "    print (\"\\t1 - JUGAR\")\n",
    "    print (\"\\t2 - SALIR\")\n",
    "\n",
    "while True:\n",
    "    menu_principal()\n",
    "    opcionMenu = input(\"Elija una opción \")\n",
    "    if opcionMenu ==\"1\":\n",
    "        print(\"STAR GAME\")\n",
    "        dibujar()\n",
    "        posicion_old = input(\"Posicion Imagen a mover: \")\n",
    "        posicion_new = input(\"Nueva Posicion a mover: \")\n",
    "        aux = piezas_num[int(posicion_old)]\n",
    "        piezas_num[int(posicion_old)] = piezas_num[int(posicion_new)]\n",
    "        piezas_num[int(posicion_new)] = aux\n",
    "        \n",
    "        mapache_randomt = np.concatenate(list(map(lambda x: mapache_partes_rompecabezas[x],piezas_num)))\n",
    "        plt.imshow(mapache_randomt)\n",
    "        plt.show()\n",
    "        \n",
    "    \n",
    "    elif opcionMenu==\"2\":\n",
    "        print(\"Salio del rompecabezas\")\n",
    "        break  "
   ]
  },
  {
   "cell_type": "code",
   "execution_count": null,
   "metadata": {},
   "outputs": [],
   "source": []
  },
  {
   "cell_type": "code",
   "execution_count": null,
   "metadata": {},
   "outputs": [],
   "source": []
  }
 ],
 "metadata": {
  "kernelspec": {
   "display_name": "Python 3",
   "language": "python",
   "name": "python3"
  },
  "language_info": {
   "codemirror_mode": {
    "name": "ipython",
    "version": 3
   },
   "file_extension": ".py",
   "mimetype": "text/x-python",
   "name": "python",
   "nbconvert_exporter": "python",
   "pygments_lexer": "ipython3",
   "version": "3.7.3"
  }
 },
 "nbformat": 4,
 "nbformat_minor": 2
}
